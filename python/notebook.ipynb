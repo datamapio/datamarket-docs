{
 "cells": [
  {
   "cell_type": "markdown",
   "id": "322cd601-b650-4a1c-a5b8-c18215874ae6",
   "metadata": {
    "panel-layout": {
     "height": 60.59375,
     "visible": true,
     "width": 100
    }
   },
   "source": [
    "# Posmo DataMarket Python SDK"
   ]
  },
  {
   "cell_type": "code",
   "execution_count": null,
   "id": "32590a95-2183-4cf8-b8eb-4823b1f927b4",
   "metadata": {},
   "outputs": [],
   "source": [
    "import geopandas\n",
    "import h3\n",
    "import hvplot.pandas\n",
    "import movingpandas\n",
    "\n",
    "from datamap.posmo_datamarket_sdk import PosmoDataMarket"
   ]
  },
  {
   "cell_type": "markdown",
   "id": "1760e639-57c1-4a0c-8d28-410bd54c0e0c",
   "metadata": {
    "panel-layout": {
     "height": 84.390625,
     "visible": true,
     "width": 100
    }
   },
   "source": [
    "Configure your Posmo project and credentials."
   ]
  },
  {
   "cell_type": "code",
   "execution_count": null,
   "id": "f0caabef-22bb-4f10-bdc8-74cd6b01064f",
   "metadata": {},
   "outputs": [],
   "source": [
    "# Client configuration\n",
    "project_code = <PROJECT_CODE>\n",
    "username = <USERNAME>\n",
    "password = <PASSWORD>\n",
    "\n",
    "# Initialize client\n",
    "datamarket = PosmoDataMarket(project_code=project_code, username=username, password=password)\n",
    "\n",
    "# hvPlot configuration\n",
    "hvplot_defaults = {'tiles': 'CartoLight', 'geo': True}"
   ]
  },
  {
   "cell_type": "markdown",
   "id": "8e282e8f-db27-43a8-828a-b1b2bff3296e",
   "metadata": {
    "panel-layout": {
     "height": 184.671875,
     "visible": true,
     "width": 100
    }
   },
   "source": [
    "## Fetching data\n",
    "\n",
    "You can fetch data by writing a PostgreSQL query with the `query` method.\n",
    "\n",
    "You can open the database schema documentation with the `schema` method.\n",
    "```python\n",
    "datamarket.schema()\n",
    "```"
   ]
  },
  {
   "cell_type": "code",
   "execution_count": null,
   "id": "3a93b2ab-48e6-4dc4-aac4-2e24fd46ce0f",
   "metadata": {},
   "outputs": [],
   "source": [
    "# Fetch data\n",
    "# Convert timestamp to nanoseconds for MovingPandas\n",
    "response1 = datamarket.query('''\n",
    "    SELECT json_build_object(\n",
    "    \t'type', 'Feature',\n",
    "    \t'geometry', ST_AsGeoJSON(the_geom)::json,\n",
    "    \t'properties', json_build_object(\n",
    "    \t\t'timestamp', timestamp * 1000000,\n",
    "    \t\t'featureCollectionId', feature_collection_id\n",
    "    \t)\n",
    "    ) AS json\n",
    "    FROM features;\n",
    "''')\n",
    "features1 = [row['json'] for row in response1]"
   ]
  },
  {
   "cell_type": "markdown",
   "id": "996305e0-9905-497e-ad95-135ff693e54d",
   "metadata": {
    "panel-layout": {
     "height": 84.390625,
     "visible": true,
     "width": 100
    }
   },
   "source": [
    "## Visualization\n",
    "\n",
    "You can visualize and analyze the data with your chosen frameworks."
   ]
  },
  {
   "cell_type": "code",
   "execution_count": null,
   "id": "ebc6bd3e-f33c-4e65-bf99-47ce96183be7",
   "metadata": {
    "panel-layout": {
     "height": 765,
     "visible": true,
     "width": 100
    }
   },
   "outputs": [],
   "source": [
    "# Visualize with GeoPandas\n",
    "geo_data_frame1 = geopandas.GeoDataFrame.from_features(features1, crs='epsg:4326')\n",
    "geo_data_frame1.hvplot(**hvplot_defaults)"
   ]
  },
  {
   "cell_type": "code",
   "execution_count": null,
   "id": "c14bf65b-df58-4559-af61-2c52411ad5e7",
   "metadata": {
    "panel-layout": {
     "height": 765,
     "visible": true,
     "width": 100
    }
   },
   "outputs": [],
   "source": [
    "# Visualize with MovingPandas\n",
    "trajectory_collection1 = movingpandas.TrajectoryCollection(geo_data_frame1, 'featureCollectionId', t='timestamp')\n",
    "trajectory_collection1.hvplot(**hvplot_defaults)"
   ]
  },
  {
   "cell_type": "markdown",
   "id": "d682e1a9-e71b-436a-bb87-fe79e12ebc3e",
   "metadata": {
    "panel-layout": {
     "height": 113.53125,
     "visible": true,
     "width": 100
    }
   },
   "source": [
    "## H3 support\n",
    "\n",
    "H3 cell indices can be used to perform additional analysis.\n",
    "\n",
    "Read more about H3 https://h3geo.org"
   ]
  },
  {
   "cell_type": "code",
   "execution_count": null,
   "id": "edfd3322-8b98-4d1d-98b1-a6cb31e173e6",
   "metadata": {
    "panel-layout": {
     "height": 765,
     "visible": true,
     "width": 100
    }
   },
   "outputs": [],
   "source": [
    "# Fetch data\n",
    "response2 = datamarket.query('''\n",
    "    SELECT h3_9 AS h3, COUNT(id) AS count\n",
    "    FROM features\n",
    "    GROUP BY h3_9;\n",
    "''')\n",
    "\n",
    "# Transform H3 cell boundaries to valid GeoJSON\n",
    "features2 = [\n",
    "    {\n",
    "        'type': 'Feature',\n",
    "        'geometry': {\n",
    "            'type': 'Polygon',\n",
    "            'coordinates': [h3.h3_to_geo_boundary(row['h3'], geo_json=True)]\n",
    "        },\n",
    "        'properties': {\n",
    "            'count': int(row['count'])\n",
    "        }\n",
    "    } for row in response2\n",
    "]\n",
    "\n",
    "# Visualize H3 cells\n",
    "geo_data_frame2 = geopandas.GeoDataFrame.from_features(features2, crs='epsg:4326')\n",
    "geo_data_frame2.hvplot.polygons(**hvplot_defaults, c='count', cmap='Reds', alpha=0.8)"
   ]
  }
 ],
 "metadata": {
  "kernelspec": {
   "display_name": "Python 3 (ipykernel)",
   "language": "python",
   "name": "python3"
  },
  "language_info": {
   "codemirror_mode": {
    "name": "ipython",
    "version": 3
   },
   "file_extension": ".py",
   "mimetype": "text/x-python",
   "name": "python",
   "nbconvert_exporter": "python",
   "pygments_lexer": "ipython3",
   "version": "3.12.2"
  },
  "panel-cell-order": [
   "322cd601-b650-4a1c-a5b8-c18215874ae6",
   "1760e639-57c1-4a0c-8d28-410bd54c0e0c",
   "8e282e8f-db27-43a8-828a-b1b2bff3296e",
   "996305e0-9905-497e-ad95-135ff693e54d",
   "ebc6bd3e-f33c-4e65-bf99-47ce96183be7",
   "c14bf65b-df58-4559-af61-2c52411ad5e7",
   "d682e1a9-e71b-436a-bb87-fe79e12ebc3e",
   "edfd3322-8b98-4d1d-98b1-a6cb31e173e6"
  ]
 },
 "nbformat": 4,
 "nbformat_minor": 5
}
